{
 "cells": [
  {
   "cell_type": "markdown",
   "metadata": {},
   "source": [
    "A rental car company claims the mean time to rent a car on their website is 60 seconds with a standard deviation of 30 seconds. A random sample of 36 customers attempted to rent a car on the website. \n",
    "\n",
    "1) If the mean time to rent was 65 seconds. Is this enough evidence to contradict the company's claim at 5% confidence level? What's the power?"
   ]
  },
  {
   "cell_type": "code",
   "execution_count": 15,
   "metadata": {},
   "outputs": [
    {
     "name": "stdout",
     "output_type": "stream",
     "text": [
      "p-value = 0.43381616738909634\n",
      "Power = 0.163446621183377\n"
     ]
    }
   ],
   "source": [
    "from scipy.stats import norm\n",
    "import scipy.stats as st\n",
    "import numpy as np\n",
    "import statsmodels.stats.power as smp\n",
    "\n",
    "print(\"p-value = {}\".format(1-norm.cdf(65, loc=60, scale=30)))\n",
    "print(\"Power = {}\".format(smp.ttest_power((65-60)/30, nobs=36, alpha=0.05, alternative='two-sided')))"
   ]
  },
  {
   "cell_type": "markdown",
   "metadata": {},
   "source": [
    "The p-value is larger than 0.05 so there's no significant evidence to contradict the company's claim at 5% confidence level. The power is 1."
   ]
  },
  {
   "cell_type": "markdown",
   "metadata": {},
   "source": [
    "2) If the analysts team believe the claim is not correct and the the time for rent is 67 seconds, what's the sample size need to designed for a sufficient test with 85% of power"
   ]
  },
  {
   "cell_type": "code",
   "execution_count": 18,
   "metadata": {},
   "outputs": [
    {
     "name": "stdout",
     "output_type": "stream",
     "text": [
      "The least sample size = 331\n"
     ]
    }
   ],
   "source": [
    "print(\"The least sample size = {}\".format(round(smp.tt_ind_solve_power(effect_size=(67-60)/30, power=0.85, alpha=0.05, alternative='two-sided'))))"
   ]
  }
 ],
 "metadata": {
  "kernelspec": {
   "display_name": "Python 3",
   "language": "python",
   "name": "python3"
  },
  "language_info": {
   "codemirror_mode": {
    "name": "ipython",
    "version": 3
   },
   "file_extension": ".py",
   "mimetype": "text/x-python",
   "name": "python",
   "nbconvert_exporter": "python",
   "pygments_lexer": "ipython3",
   "version": "3.6.3"
  }
 },
 "nbformat": 4,
 "nbformat_minor": 2
}
