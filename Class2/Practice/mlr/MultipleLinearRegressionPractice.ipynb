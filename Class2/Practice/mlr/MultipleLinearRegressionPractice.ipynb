{
 "cells": [
  {
   "cell_type": "markdown",
   "metadata": {},
   "source": [
    "# This practice will cover learning points in class2\n",
    "### 1 - Fit MLR model in python with sklearn and statesmodel packages\n",
    "### 2 - Model Selection\n",
    "### 3 - Weighted regression\n",
    "### 4 - Regularization, L1 and L2"
   ]
  },
  {
   "cell_type": "markdown",
   "metadata": {},
   "source": [
    "Import required Python packages."
   ]
  },
  {
   "cell_type": "code",
   "execution_count": 1,
   "metadata": {},
   "outputs": [
    {
     "name": "stderr",
     "output_type": "stream",
     "text": [
      "C:\\ProgramData\\Anaconda3\\lib\\site-packages\\statsmodels\\compat\\pandas.py:56: FutureWarning: The pandas.core.datetools module is deprecated and will be removed in a future version. Please use the pandas.tseries module instead.\n",
      "  from pandas.core import datetools\n"
     ]
    },
    {
     "name": "stdout",
     "output_type": "stream",
     "text": [
      "no display found. Using non-interactive Agg backend\n"
     ]
    },
    {
     "name": "stderr",
     "output_type": "stream",
     "text": [
      "C:\\ProgramData\\Anaconda3\\lib\\site-packages\\dmba\\__init__.py:13: UserWarning: \n",
      "This call to matplotlib.use() has no effect because the backend has already\n",
      "been chosen; matplotlib.use() must be called *before* pylab, matplotlib.pyplot,\n",
      "or matplotlib.backends is imported for the first time.\n",
      "\n",
      "The backend was *originally* set to 'module://ipykernel.pylab.backend_inline' by the following code:\n",
      "  File \"C:\\ProgramData\\Anaconda3\\lib\\runpy.py\", line 193, in _run_module_as_main\n",
      "    \"__main__\", mod_spec)\n",
      "  File \"C:\\ProgramData\\Anaconda3\\lib\\runpy.py\", line 85, in _run_code\n",
      "    exec(code, run_globals)\n",
      "  File \"C:\\ProgramData\\Anaconda3\\lib\\site-packages\\ipykernel_launcher.py\", line 16, in <module>\n",
      "    app.launch_new_instance()\n",
      "  File \"C:\\ProgramData\\Anaconda3\\lib\\site-packages\\traitlets\\config\\application.py\", line 658, in launch_instance\n",
      "    app.start()\n",
      "  File \"C:\\ProgramData\\Anaconda3\\lib\\site-packages\\ipykernel\\kernelapp.py\", line 477, in start\n",
      "    ioloop.IOLoop.instance().start()\n",
      "  File \"C:\\ProgramData\\Anaconda3\\lib\\site-packages\\zmq\\eventloop\\ioloop.py\", line 177, in start\n",
      "    super(ZMQIOLoop, self).start()\n",
      "  File \"C:\\ProgramData\\Anaconda3\\lib\\site-packages\\tornado\\ioloop.py\", line 888, in start\n",
      "    handler_func(fd_obj, events)\n",
      "  File \"C:\\ProgramData\\Anaconda3\\lib\\site-packages\\tornado\\stack_context.py\", line 277, in null_wrapper\n",
      "    return fn(*args, **kwargs)\n",
      "  File \"C:\\ProgramData\\Anaconda3\\lib\\site-packages\\zmq\\eventloop\\zmqstream.py\", line 440, in _handle_events\n",
      "    self._handle_recv()\n",
      "  File \"C:\\ProgramData\\Anaconda3\\lib\\site-packages\\zmq\\eventloop\\zmqstream.py\", line 472, in _handle_recv\n",
      "    self._run_callback(callback, msg)\n",
      "  File \"C:\\ProgramData\\Anaconda3\\lib\\site-packages\\zmq\\eventloop\\zmqstream.py\", line 414, in _run_callback\n",
      "    callback(*args, **kwargs)\n",
      "  File \"C:\\ProgramData\\Anaconda3\\lib\\site-packages\\tornado\\stack_context.py\", line 277, in null_wrapper\n",
      "    return fn(*args, **kwargs)\n",
      "  File \"C:\\ProgramData\\Anaconda3\\lib\\site-packages\\ipykernel\\kernelbase.py\", line 283, in dispatcher\n",
      "    return self.dispatch_shell(stream, msg)\n",
      "  File \"C:\\ProgramData\\Anaconda3\\lib\\site-packages\\ipykernel\\kernelbase.py\", line 235, in dispatch_shell\n",
      "    handler(stream, idents, msg)\n",
      "  File \"C:\\ProgramData\\Anaconda3\\lib\\site-packages\\ipykernel\\kernelbase.py\", line 399, in execute_request\n",
      "    user_expressions, allow_stdin)\n",
      "  File \"C:\\ProgramData\\Anaconda3\\lib\\site-packages\\ipykernel\\ipkernel.py\", line 196, in do_execute\n",
      "    res = shell.run_cell(code, store_history=store_history, silent=silent)\n",
      "  File \"C:\\ProgramData\\Anaconda3\\lib\\site-packages\\ipykernel\\zmqshell.py\", line 533, in run_cell\n",
      "    return super(ZMQInteractiveShell, self).run_cell(*args, **kwargs)\n",
      "  File \"C:\\ProgramData\\Anaconda3\\lib\\site-packages\\IPython\\core\\interactiveshell.py\", line 2698, in run_cell\n",
      "    interactivity=interactivity, compiler=compiler, result=result)\n",
      "  File \"C:\\ProgramData\\Anaconda3\\lib\\site-packages\\IPython\\core\\interactiveshell.py\", line 2802, in run_ast_nodes\n",
      "    if self.run_code(code, result):\n",
      "  File \"C:\\ProgramData\\Anaconda3\\lib\\site-packages\\IPython\\core\\interactiveshell.py\", line 2862, in run_code\n",
      "    exec(code_obj, self.user_global_ns, self.user_ns)\n",
      "  File \"<ipython-input-1-f482ada5ca86>\", line 13, in <module>\n",
      "    import seaborn as sns\n",
      "  File \"C:\\ProgramData\\Anaconda3\\lib\\site-packages\\seaborn\\__init__.py\", line 6, in <module>\n",
      "    from .rcmod import *\n",
      "  File \"C:\\ProgramData\\Anaconda3\\lib\\site-packages\\seaborn\\rcmod.py\", line 8, in <module>\n",
      "    from . import palettes, _orig_rc_params\n",
      "  File \"C:\\ProgramData\\Anaconda3\\lib\\site-packages\\seaborn\\palettes.py\", line 12, in <module>\n",
      "    from .utils import desaturate, set_hls_values, get_color_cycle\n",
      "  File \"C:\\ProgramData\\Anaconda3\\lib\\site-packages\\seaborn\\utils.py\", line 12, in <module>\n",
      "    import matplotlib.pyplot as plt\n",
      "  File \"C:\\ProgramData\\Anaconda3\\lib\\site-packages\\matplotlib\\pyplot.py\", line 69, in <module>\n",
      "    from matplotlib.backends import pylab_setup\n",
      "  File \"C:\\ProgramData\\Anaconda3\\lib\\site-packages\\matplotlib\\backends\\__init__.py\", line 14, in <module>\n",
      "    line for line in traceback.format_stack()\n",
      "\n",
      "\n",
      "  mpl.use('Agg')\n"
     ]
    }
   ],
   "source": [
    "from pathlib import Path\n",
    "import os\n",
    "import pandas as pd\n",
    "import numpy as np\n",
    "\n",
    "from sklearn.model_selection import train_test_split\n",
    "\n",
    "from sklearn.metrics import r2_score, mean_squared_error\n",
    "from sklearn.linear_model import LinearRegression, RidgeCV, LassoCV, ElasticNetCV\n",
    "\n",
    "import statsmodels.api as sm\n",
    "\n",
    "import seaborn as sns\n",
    "import matplotlib.pyplot as plt\n",
    "\n",
    "from dmba import stepwise_selection\n",
    "from dmba import AIC_score\n",
    "\n",
    "%matplotlib inline"
   ]
  },
  {
   "cell_type": "markdown",
   "metadata": {},
   "source": [
    "Define paths to data sets. If you don't keep your data in the same directory as the code, adapt the path names."
   ]
  },
  {
   "cell_type": "code",
   "execution_count": 2,
   "metadata": {
    "collapsed": true
   },
   "outputs": [],
   "source": [
    "DATA = Path('.').resolve().parents[1] / 'Practice/mlr/'\n",
    "\n",
    "HOUSE_CSV = DATA / 'house_sales.csv'"
   ]
  },
  {
   "cell_type": "code",
   "execution_count": 3,
   "metadata": {},
   "outputs": [
    {
     "name": "stdout",
     "output_type": "stream",
     "text": [
      "D:\\Python\\onecareer\\DataScienceProgram\\Class2\\Practice\\mlr\\house_sales.csv\n"
     ]
    }
   ],
   "source": [
    "# print(DATA)\n",
    "print(HOUSE_CSV)"
   ]
  },
  {
   "cell_type": "markdown",
   "metadata": {},
   "source": [
    "#### Data read and train-test split"
   ]
  },
  {
   "cell_type": "code",
   "execution_count": 4,
   "metadata": {},
   "outputs": [
    {
     "name": "stdout",
     "output_type": "stream",
     "text": [
      "      DocumentDate  SalePrice  PropertyID   PropertyType          ym  zhvi_px  \\\n",
      "13337   2006-02-27     395000  3904901410  Single Family  2006-02-01   387600   \n",
      "24136   2006-06-14     385000  8718500320  Single Family  2006-06-01   404400   \n",
      "1682    2013-04-03     810000   650000005  Single Family  2013-04-01   356000   \n",
      "1081    2009-03-23     195000   421000185  Single Family  2009-03-01   369800   \n",
      "4120    2008-02-05     309000  1446100050      Multiplex  2008-02-01   418400   \n",
      "\n",
      "       zhvi_idx  AdjSalePrice  NbrLivingUnits  SqFtLot       ...         \\\n",
      "13337  0.890625      443509.0               1     4661       ...          \n",
      "24136  0.929228      414322.0               1     7881       ...          \n",
      "1682   0.818015      990202.0               1     9112       ...          \n",
      "1081   0.849724      229486.0               1     4700       ...          \n",
      "4120   0.961397      321407.0               2     7401       ...          \n",
      "\n",
      "       Bathrooms  Bedrooms  BldgGrade  YrBuilt  YrRenovated  TrafficNoise  \\\n",
      "13337       2.25         3          7     1985            0             0   \n",
      "24136       1.75         3          7     1958            0             0   \n",
      "1682        2.00         3          8     1951            0             0   \n",
      "1081        1.00         2          5     1953            0             0   \n",
      "4120        2.00         4          7     1978            0             0   \n",
      "\n",
      "       LandVal  ImpsVal  ZipCode  NewConstruction  \n",
      "13337   243000   166000    98029            False  \n",
      "24136   254000   175000    98028            False  \n",
      "1682    517000   244000    98004            False  \n",
      "1081    138000    39000    98056            False  \n",
      "4120     67000   213000    98002            False  \n",
      "\n",
      "[5 rows x 22 columns]\n",
      "(18149, 22)\n",
      "      DocumentDate  SalePrice  PropertyID   PropertyType          ym  zhvi_px  \\\n",
      "22018   2007-04-13     340000  7891600165  Single Family  2007-04-01   430900   \n",
      "20791   2011-09-01     790000  7625703885  Single Family  2011-09-01   312000   \n",
      "10684   2006-05-01     343000  3299700250  Single Family  2006-05-01   400600   \n",
      "4732    2006-10-24     780000  1644500320  Single Family  2006-10-01   418300   \n",
      "3196    2007-11-06     380000  1231000025  Single Family  2007-11-01   428400   \n",
      "\n",
      "       zhvi_idx  AdjSalePrice  NbrLivingUnits  SqFtLot       ...         \\\n",
      "22018  0.990119      343393.0               1     2500       ...          \n",
      "20791  0.716912     1101949.0               1     7108       ...          \n",
      "10684  0.920496      372625.0               1     7852       ...          \n",
      "4732   0.961167      811513.0               1     5250       ...          \n",
      "3196   0.984375      386032.0               1     3900       ...          \n",
      "\n",
      "       Bathrooms  Bedrooms  BldgGrade  YrBuilt  YrRenovated  TrafficNoise  \\\n",
      "22018       1.00         2          7     1907            0             0   \n",
      "20791       3.00         4          9     2011            0             0   \n",
      "10684       1.75         4          7     1951            0             0   \n",
      "4732        2.50         4          9     2004            0             0   \n",
      "3196        1.00         3          7     1910         1989             0   \n",
      "\n",
      "       LandVal  ImpsVal  ZipCode  NewConstruction  \n",
      "22018   217000   121000    98106            False  \n",
      "20791   246000   597000    98136             True  \n",
      "10684   153000   188000    98177            False  \n",
      "4732    283000   358000    98056            False  \n",
      "3196    136000   229000    98118            False  \n",
      "\n",
      "[5 rows x 22 columns]\n",
      "(4538, 22)\n"
     ]
    }
   ],
   "source": [
    "houseall = pd.read_csv(HOUSE_CSV, sep='\\t')\n",
    "\n",
    "house, house_test = train_test_split(houseall, test_size=0.2)\n",
    "\n",
    "print(house.head())\n",
    "print(house.shape)\n",
    "\n",
    "print(house_test.head())\n",
    "print(house_test.shape)"
   ]
  },
  {
   "cell_type": "markdown",
   "metadata": {},
   "source": [
    "We can use the `LinearRegression` model from _scikit-learn_."
   ]
  },
  {
   "cell_type": "markdown",
   "metadata": {},
   "source": [
    "## 1 - Multiple Linear Regression (SKlearn)"
   ]
  },
  {
   "cell_type": "code",
   "execution_count": 5,
   "metadata": {},
   "outputs": [
    {
     "name": "stdout",
     "output_type": "stream",
     "text": [
      "       AdjSalePrice  SqFtTotLiving  SqFtLot  Bathrooms  Bedrooms  BldgGrade\n",
      "13337      443509.0           1490     4661       2.25         3          7\n",
      "24136      414322.0           1880     7881       1.75         3          7\n",
      "1682       990202.0           1880     9112       2.00         3          8\n",
      "1081       229486.0            700     4700       1.00         2          5\n",
      "4120       321407.0           1990     7401       2.00         4          7\n"
     ]
    }
   ],
   "source": [
    "subset = ['AdjSalePrice', 'SqFtTotLiving', 'SqFtLot', 'Bathrooms', \n",
    "          'Bedrooms', 'BldgGrade']\n",
    "\n",
    "print(house[subset].head())"
   ]
  },
  {
   "cell_type": "code",
   "execution_count": 6,
   "metadata": {},
   "outputs": [
    {
     "name": "stdout",
     "output_type": "stream",
     "text": [
      "      DocumentDate  SalePrice  PropertyID   PropertyType          ym  zhvi_px  \\\n",
      "13337   2006-02-27     395000  3904901410  Single Family  2006-02-01   387600   \n",
      "24136   2006-06-14     385000  8718500320  Single Family  2006-06-01   404400   \n",
      "1682    2013-04-03     810000   650000005  Single Family  2013-04-01   356000   \n",
      "1081    2009-03-23     195000   421000185  Single Family  2009-03-01   369800   \n",
      "4120    2008-02-05     309000  1446100050      Multiplex  2008-02-01   418400   \n",
      "\n",
      "       zhvi_idx  AdjSalePrice  NbrLivingUnits  SqFtLot       ...         \\\n",
      "13337  0.890625      443509.0               1     4661       ...          \n",
      "24136  0.929228      414322.0               1     7881       ...          \n",
      "1682   0.818015      990202.0               1     9112       ...          \n",
      "1081   0.849724      229486.0               1     4700       ...          \n",
      "4120   0.961397      321407.0               2     7401       ...          \n",
      "\n",
      "       Bathrooms  Bedrooms  BldgGrade  YrBuilt  YrRenovated  TrafficNoise  \\\n",
      "13337       2.25         3          7     1985            0             0   \n",
      "24136       1.75         3          7     1958            0             0   \n",
      "1682        2.00         3          8     1951            0             0   \n",
      "1081        1.00         2          5     1953            0             0   \n",
      "4120        2.00         4          7     1978            0             0   \n",
      "\n",
      "       LandVal  ImpsVal  ZipCode  NewConstruction  \n",
      "13337   243000   166000    98029            False  \n",
      "24136   254000   175000    98028            False  \n",
      "1682    517000   244000    98004            False  \n",
      "1081    138000    39000    98056            False  \n",
      "4120     67000   213000    98002            False  \n",
      "\n",
      "[5 rows x 22 columns]\n",
      "Index(['DocumentDate', 'SalePrice', 'PropertyID', 'PropertyType', 'ym',\n",
      "       'zhvi_px', 'zhvi_idx', 'AdjSalePrice', 'NbrLivingUnits', 'SqFtLot',\n",
      "       'SqFtTotLiving', 'SqFtFinBasement', 'Bathrooms', 'Bedrooms',\n",
      "       'BldgGrade', 'YrBuilt', 'YrRenovated', 'TrafficNoise', 'LandVal',\n",
      "       'ImpsVal', 'ZipCode', 'NewConstruction'],\n",
      "      dtype='object')\n"
     ]
    }
   ],
   "source": [
    "print(house.head())\n",
    "print(house.columns)"
   ]
  },
  {
   "cell_type": "code",
   "execution_count": 31,
   "metadata": {},
   "outputs": [
    {
     "name": "stdout",
     "output_type": "stream",
     "text": [
      "Intercept: -502691.533\n",
      "Coefficients:\n",
      " SqFtTotLiving: 235.15166563405077\n",
      " SqFtLot: -0.06951651908500905\n",
      " Bathrooms: -14069.12863414638\n",
      " Bedrooms: -54658.863988289275\n",
      " BldgGrade: 103454.13271908204\n"
     ]
    }
   ],
   "source": [
    "predictors = ['SqFtTotLiving', 'SqFtLot', 'Bathrooms', \n",
    "              'Bedrooms', 'BldgGrade']\n",
    "outcome = 'AdjSalePrice'\n",
    "\n",
    "house_lm = LinearRegression()\n",
    "house_lm.fit(house[predictors], house[outcome])\n",
    "\n",
    "print(f'Intercept: {house_lm.intercept_:.3f}')\n",
    "print('Coefficients:')\n",
    "for name, coef in zip(predictors, house_lm.coef_):\n",
    "    print(f' {name}: {coef}')"
   ]
  },
  {
   "cell_type": "markdown",
   "metadata": {},
   "source": [
    "### Assessing the Model with performance KPIs\n",
    "_Scikit-learn_ provides a number of metrics to determine the quality of a model. Here we use the `r2_score` and `RMSE`."
   ]
  },
  {
   "cell_type": "code",
   "execution_count": 32,
   "metadata": {},
   "outputs": [
    {
     "name": "stdout",
     "output_type": "stream",
     "text": [
      "RMSE: 268604\n",
      "r2: 0.5324\n",
      "RMSE_test: 268604\n",
      "r2_test: 0.5795\n"
     ]
    }
   ],
   "source": [
    "fitted = house_lm.predict(house[predictors])\n",
    "RMSE = np.sqrt(mean_squared_error(house[outcome], fitted))\n",
    "r2 = r2_score(house[outcome], fitted)\n",
    "print(f'RMSE: {RMSE:.0f}')\n",
    "print(f'r2: {r2:.4f}')\n",
    "\n",
    "fitted_test = house_lm.predict(house_test[predictors])\n",
    "RMSE_test = np.sqrt(mean_squared_error(house_test[outcome], fitted_test))\n",
    "r2 = r2_score(house_test[outcome], fitted_test)\n",
    "print(f'RMSE_test: {RMSE:.0f}')\n",
    "print(f'r2_test: {r2:.4f}')"
   ]
  },
  {
   "cell_type": "markdown",
   "metadata": {},
   "source": [
    "## 1 - Multiple Linear Regression (statsmodels)"
   ]
  },
  {
   "cell_type": "markdown",
   "metadata": {},
   "source": [
    "While _scikit-learn_ provides a variety of different metrics, _statsmodels_ provides a more in-depth analysis of the linear regression model. This package has two different ways of specifying the model, one that is similar to _scikit-learn_ and one that allows specifying _R_-style formulas. Here we use the first approach. As _statsmodels_ doesn't add an intercept automaticaly, we need to add a constant column with value 1 to the predictors. We can use the _pandas_ method assign for this."
   ]
  },
  {
   "cell_type": "code",
   "execution_count": 9,
   "metadata": {},
   "outputs": [
    {
     "name": "stdout",
     "output_type": "stream",
     "text": [
      "                            OLS Regression Results                            \n",
      "==============================================================================\n",
      "Dep. Variable:           AdjSalePrice   R-squared:                       0.532\n",
      "Model:                            OLS   Adj. R-squared:                  0.532\n",
      "Method:                 Least Squares   F-statistic:                     4131.\n",
      "Date:                Wed, 24 Jun 2020   Prob (F-statistic):               0.00\n",
      "Time:                        10:35:07   Log-Likelihood:            -2.5263e+05\n",
      "No. Observations:               18149   AIC:                         5.053e+05\n",
      "Df Residuals:                   18143   BIC:                         5.053e+05\n",
      "Df Model:                           5                                         \n",
      "Covariance Type:            nonrobust                                         \n",
      "=================================================================================\n",
      "                    coef    std err          t      P>|t|      [0.025      0.975]\n",
      "---------------------------------------------------------------------------------\n",
      "SqFtTotLiving   235.1517      4.511     52.126      0.000     226.309     243.994\n",
      "SqFtLot          -0.0695      0.072     -0.960      0.337      -0.211       0.072\n",
      "Bathrooms     -1.407e+04   4192.258     -3.356      0.001   -2.23e+04   -5851.906\n",
      "Bedrooms      -5.466e+04   2981.282    -18.334      0.000   -6.05e+04   -4.88e+04\n",
      "BldgGrade      1.035e+05   2752.551     37.585      0.000    9.81e+04    1.09e+05\n",
      "const         -5.027e+05   1.81e+04    -27.712      0.000   -5.38e+05   -4.67e+05\n",
      "==============================================================================\n",
      "Omnibus:                    24648.534   Durbin-Watson:                   2.018\n",
      "Prob(Omnibus):                  0.000   Jarque-Bera (JB):         18033276.281\n",
      "Skew:                           7.384   Prob(JB):                         0.00\n",
      "Kurtosis:                     156.717   Cond. No.                     2.81e+05\n",
      "==============================================================================\n",
      "\n",
      "Warnings:\n",
      "[1] Standard Errors assume that the covariance matrix of the errors is correctly specified.\n",
      "[2] The condition number is large, 2.81e+05. This might indicate that there are\n",
      "strong multicollinearity or other numerical problems.\n"
     ]
    }
   ],
   "source": [
    "mlr_sm = sm.OLS(house[outcome], house[predictors].assign(const=1))\n",
    "results = mlr_sm.fit()\n",
    "print(results.summary())"
   ]
  },
  {
   "cell_type": "markdown",
   "metadata": {},
   "source": [
    "### Correlations between predictors"
   ]
  },
  {
   "cell_type": "code",
   "execution_count": 10,
   "metadata": {},
   "outputs": [
    {
     "name": "stdout",
     "output_type": "stream",
     "text": [
      "Correlation Matrix \n",
      "                SqFtTotLiving   SqFtLot  Bathrooms  Bedrooms  BldgGrade\n",
      "SqFtTotLiving       1.000000  0.194475   0.764851  0.617503   0.769859\n",
      "SqFtLot             0.194475  1.000000   0.107217  0.069536   0.145469\n",
      "Bathrooms           0.764851  0.107217   1.000000  0.553942   0.658738\n",
      "Bedrooms            0.617503  0.069536   0.553942  1.000000   0.376697\n",
      "BldgGrade           0.769859  0.145469   0.658738  0.376697   1.000000\n"
     ]
    },
    {
     "data": {
      "image/png": "[encoded data removed]",
      "text/plain": [
       "<matplotlib.figure.Figure at 0x262dea96f98>"
      ]
     },
     "metadata": {},
     "output_type": "display_data"
    }
   ],
   "source": [
    "corr = house[predictors].corr()\n",
    "print(\"Correlation Matrix \\n {}\".format(corr))\n",
    "\n",
    "ax = sns.heatmap(\n",
    "    corr, \n",
    "    vmin=-1, vmax=1, center=0,\n",
    "    cmap=sns.diverging_palette(20, 220, n=200),\n",
    "    square=True\n",
    ")\n",
    "ax.set_xticklabels(\n",
    "    ax.get_xticklabels(),\n",
    "    rotation=45,\n",
    "    horizontalalignment='right'\n",
    ");"
   ]
  },
  {
   "cell_type": "markdown",
   "metadata": {},
   "source": [
    "## 2 - Model Selection and Stepwise Regression"
   ]
  },
  {
   "cell_type": "code",
   "execution_count": 11,
   "metadata": {},
   "outputs": [
    {
     "name": "stdout",
     "output_type": "stream",
     "text": [
      "       SqFtTotLiving  SqFtLot  Bathrooms  Bedrooms  BldgGrade   PropertyType  \\\n",
      "13337           1490     4661       2.25         3          7  Single Family   \n",
      "24136           1880     7881       1.75         3          7  Single Family   \n",
      "1682            1880     9112       2.00         3          8  Single Family   \n",
      "1081             700     4700       1.00         2          5  Single Family   \n",
      "4120            1990     7401       2.00         4          7      Multiplex   \n",
      "\n",
      "       NbrLivingUnits  SqFtFinBasement  YrBuilt  YrRenovated  NewConstruction  \n",
      "13337               1                0     1985            0            False  \n",
      "24136               1                0     1958            0            False  \n",
      "1682                1                0     1951            0            False  \n",
      "1081                1                0     1953            0            False  \n",
      "4120                2                0     1978            0            False  \n",
      "\n",
      " PropertyType List \n",
      "Single Family    16574\n",
      "Townhouse         1370\n",
      "Multiplex          205\n",
      "Name: PropertyType, dtype: int64\n",
      "\n",
      "Predictors after nominal varibale(s) treatment: (18149, 12) \n",
      "\n",
      "\n",
      "                            OLS Regression Results                            \n",
      "==============================================================================\n",
      "Dep. Variable:           AdjSalePrice   R-squared:                       0.587\n",
      "Model:                            OLS   Adj. R-squared:                  0.586\n",
      "Method:                 Least Squares   F-statistic:                     2145.\n",
      "Date:                Wed, 24 Jun 2020   Prob (F-statistic):               0.00\n",
      "Time:                        10:35:35   Log-Likelihood:            -2.5151e+05\n",
      "No. Observations:               18149   AIC:                         5.031e+05\n",
      "Df Residuals:                   18136   BIC:                         5.032e+05\n",
      "Df Model:                          12                                         \n",
      "Covariance Type:            nonrobust                                         \n",
      "==============================================================================================\n",
      "                                 coef    std err          t      P>|t|      [0.025      0.975]\n",
      "----------------------------------------------------------------------------------------------\n",
      "SqFtTotLiving                204.1646      4.887     41.779      0.000     194.586     213.743\n",
      "SqFtLot                        0.0845      0.069      1.230      0.219      -0.050       0.219\n",
      "Bathrooms                   5.103e+04   4416.539     11.554      0.000    4.24e+04    5.97e+04\n",
      "Bedrooms                   -5.994e+04   2877.256    -20.833      0.000   -6.56e+04   -5.43e+04\n",
      "BldgGrade                   1.356e+05   2808.033     48.298      0.000     1.3e+05    1.41e+05\n",
      "NbrLivingUnits              1.122e+04   1.98e+04      0.567      0.571   -2.75e+04       5e+04\n",
      "SqFtFinBasement                4.8713      5.316      0.916      0.359      -5.548      15.290\n",
      "YrBuilt                    -3670.9190     88.824    -41.328      0.000   -3845.023   -3496.815\n",
      "YrRenovated                   -1.8114      4.541     -0.399      0.690     -10.713       7.090\n",
      "NewConstruction            -1084.9962   6837.515     -0.159      0.874   -1.45e+04    1.23e+04\n",
      "PropertyType_Single Family   3.32e+04   2.92e+04      1.135      0.256   -2.41e+04    9.05e+04\n",
      "PropertyType_Townhouse      9.598e+04   3.03e+04      3.166      0.002    3.66e+04    1.55e+05\n",
      "const                       6.375e+06   1.78e+05     35.880      0.000    6.03e+06    6.72e+06\n",
      "==============================================================================\n",
      "Omnibus:                    25712.752   Durbin-Watson:                   2.016\n",
      "Prob(Omnibus):                  0.000   Jarque-Bera (JB):         24116934.012\n",
      "Skew:                           7.954   Prob(JB):                         0.00\n",
      "Kurtosis:                     180.873   Cond. No.                     2.90e+06\n",
      "==============================================================================\n",
      "\n",
      "Warnings:\n",
      "[1] Standard Errors assume that the covariance matrix of the errors is correctly specified.\n",
      "[2] The condition number is large, 2.9e+06. This might indicate that there are\n",
      "strong multicollinearity or other numerical problems.\n"
     ]
    }
   ],
   "source": [
    "predictors = ['SqFtTotLiving', 'SqFtLot', 'Bathrooms', 'Bedrooms',\n",
    "              'BldgGrade', 'PropertyType', 'NbrLivingUnits',\n",
    "              'SqFtFinBasement', 'YrBuilt', 'YrRenovated', \n",
    "              'NewConstruction']\n",
    "\n",
    "print(house[predictors].head())\n",
    "\n",
    "print(\"\\n PropertyType List \\n{}\".format(house['PropertyType'].value_counts(dropna=False)))\n",
    "\n",
    "X = pd.get_dummies(house[predictors], drop_first=True)\n",
    "X['NewConstruction'] = [1 if nc else 0 for nc in X['NewConstruction']]\n",
    "\n",
    "print(\"\\nPredictors after nominal varibale(s) treatment: {} \\n\\n\".format(X.shape))\n",
    "\n",
    "house_full = sm.OLS(house[outcome], X.assign(const=1))\n",
    "results = house_full.fit()\n",
    "print(results.summary())"
   ]
  },
  {
   "cell_type": "markdown",
   "metadata": {},
   "source": [
    "We can use the `stepwise_selection` method from the _dmba_ package."
   ]
  },
  {
   "cell_type": "code",
   "execution_count": 12,
   "metadata": {},
   "outputs": [
    {
     "name": "stdout",
     "output_type": "stream",
     "text": [
      "Variables: SqFtTotLiving, SqFtLot, Bathrooms, Bedrooms, BldgGrade, NbrLivingUnits, SqFtFinBasement, YrBuilt, YrRenovated, NewConstruction, PropertyType_Single Family, PropertyType_Townhouse\n",
      "Start: score=519064.57, constant\n",
      "Step: score=507333.14, add SqFtTotLiving\n",
      "Step: score=505656.97, add BldgGrade\n",
      "Step: score=503687.65, add YrBuilt\n",
      "Step: score=503289.22, add Bedrooms\n",
      "Step: score=503103.42, add Bathrooms\n",
      "Step: score=503046.66, add PropertyType_Townhouse\n",
      "Step: score=503046.66, unchanged None\n",
      "\n",
      "Intercept: 6441146.303\n",
      "Coefficients:\n",
      " SqFtTotLiving: 206.71172192661047\n",
      " BldgGrade: 135052.03726977098\n",
      " YrBuilt: -3680.392245661686\n",
      " Bedrooms: -60224.71846210909\n",
      " Bathrooms: 50615.89037188609\n",
      " PropertyType_Townhouse: 62956.51902116502\n"
     ]
    }
   ],
   "source": [
    "y = house[outcome]\n",
    "\n",
    "def train_model(variables):\n",
    "    if len(variables) == 0:\n",
    "        return None\n",
    "    model = LinearRegression()\n",
    "    model.fit(X[variables], y)\n",
    "    return model\n",
    "\n",
    "def score_model(model, variables):\n",
    "    if len(variables) == 0:\n",
    "        return AIC_score(y, [y.mean()] * len(y), model, df=1)\n",
    "    return AIC_score(y, model.predict(X[variables]), model)\n",
    "\n",
    "best_model, best_variables = stepwise_selection(X.columns, train_model, score_model, \n",
    "                                                verbose=True)\n",
    "\n",
    "print()\n",
    "print(f'Intercept: {best_model.intercept_:.3f}')\n",
    "print('Coefficients:')\n",
    "for name, coef in zip(best_variables, best_model.coef_):\n",
    "    print(f' {name}: {coef}')"
   ]
  },
  {
   "cell_type": "markdown",
   "metadata": {},
   "source": [
    "## 3 - Weighted regression\n",
    "For the house data recent sale price is more relavent for future prediction, old sale data is less reliable, therefore, we like to emphasis the recent sale data by apply more weight. We will use year the house sale to 2005 as weight.\n",
    "\n",
    "We can calculate the Year from the date column using either a list comprehension or the data frame's `apply` method."
   ]
  },
  {
   "cell_type": "code",
   "execution_count": 13,
   "metadata": {},
   "outputs": [
    {
     "name": "stdout",
     "output_type": "stream",
     "text": [
      "\n",
      "DocumentDate List \n",
      "2006-07-26    50\n",
      "2006-08-24    47\n",
      "2006-06-19    44\n",
      "2006-06-28    44\n",
      "2006-06-13    43\n",
      "2006-04-25    43\n",
      "2006-06-21    42\n",
      "2006-06-01    42\n",
      "2006-07-18    41\n",
      "2006-06-08    41\n",
      "2006-05-22    41\n",
      "2006-10-10    40\n",
      "2006-05-01    40\n",
      "2006-05-30    40\n",
      "2006-08-21    40\n",
      "2006-04-26    39\n",
      "2006-08-25    39\n",
      "2006-03-22    38\n",
      "2006-02-21    38\n",
      "2006-08-01    38\n",
      "2006-03-20    37\n",
      "2006-07-24    37\n",
      "2006-05-08    37\n",
      "2006-06-12    36\n",
      "2006-08-04    36\n",
      "2007-04-23    36\n",
      "2006-05-25    36\n",
      "2006-07-11    35\n",
      "2006-09-27    35\n",
      "2006-06-22    35\n",
      "              ..\n",
      "2014-11-26     1\n",
      "2014-05-06     1\n",
      "2013-09-15     1\n",
      "2011-03-27     1\n",
      "2011-12-19     1\n",
      "2006-07-30     1\n",
      "2011-11-20     1\n",
      "2010-01-30     1\n",
      "2007-08-18     1\n",
      "2013-03-01     1\n",
      "2013-10-14     1\n",
      "2011-12-28     1\n",
      "2007-09-01     1\n",
      "2013-05-23     1\n",
      "2007-01-21     1\n",
      "2012-05-19     1\n",
      "2014-10-14     1\n",
      "2012-01-01     1\n",
      "2011-02-04     1\n",
      "2011-12-07     1\n",
      "2014-04-16     1\n",
      "2012-08-28     1\n",
      "2009-03-20     1\n",
      "2011-04-19     1\n",
      "2007-04-01     1\n",
      "2014-11-24     1\n",
      "2008-05-17     1\n",
      "2006-06-03     1\n",
      "2014-12-06     1\n",
      "2007-02-24     1\n",
      "Name: DocumentDate, Length: 2464, dtype: int64\n"
     ]
    }
   ],
   "source": [
    "print(\"\\nDocumentDate List \\n{}\".format(house['DocumentDate'].value_counts(dropna=False)))"
   ]
  },
  {
   "cell_type": "code",
   "execution_count": 14,
   "metadata": {},
   "outputs": [
    {
     "name": "stderr",
     "output_type": "stream",
     "text": [
      "C:\\ProgramData\\Anaconda3\\lib\\site-packages\\ipykernel_launcher.py:1: SettingWithCopyWarning: \n",
      "A value is trying to be set on a copy of a slice from a DataFrame.\n",
      "Try using .loc[row_indexer,col_indexer] = value instead\n",
      "\n",
      "See the caveats in the documentation: http://pandas.pydata.org/pandas-docs/stable/indexing.html#indexing-view-versus-copy\n",
      "  \"\"\"Entry point for launching an IPython kernel.\n",
      "C:\\ProgramData\\Anaconda3\\lib\\site-packages\\ipykernel_launcher.py:2: SettingWithCopyWarning: \n",
      "A value is trying to be set on a copy of a slice from a DataFrame.\n",
      "Try using .loc[row_indexer,col_indexer] = value instead\n",
      "\n",
      "See the caveats in the documentation: http://pandas.pydata.org/pandas-docs/stable/indexing.html#indexing-view-versus-copy\n",
      "  \n",
      "C:\\ProgramData\\Anaconda3\\lib\\site-packages\\ipykernel_launcher.py:3: SettingWithCopyWarning: \n",
      "A value is trying to be set on a copy of a slice from a DataFrame.\n",
      "Try using .loc[row_indexer,col_indexer] = value instead\n",
      "\n",
      "See the caveats in the documentation: http://pandas.pydata.org/pandas-docs/stable/indexing.html#indexing-view-versus-copy\n",
      "  This is separate from the ipykernel package so we can avoid doing imports until\n"
     ]
    }
   ],
   "source": [
    "house['Year'] = [int(date.split('-')[0]) for date in house.DocumentDate]  #list comprehension\n",
    "house['Year'] = house.DocumentDate.apply(lambda d: int(d.split('-')[0]))  # apply()\n",
    "house['Weight'] = house.Year - 2005"
   ]
  },
  {
   "cell_type": "code",
   "execution_count": 15,
   "metadata": {},
   "outputs": [
    {
     "data": {
      "text/html": [
       "<div>\n",
       "<style>\n",
       "    .dataframe thead tr:only-child th {\n",
       "        text-align: right;\n",
       "    }\n",
       "\n",
       "    .dataframe thead th {\n",
       "        text-align: left;\n",
       "    }\n",
       "\n",
       "    .dataframe tbody tr th {\n",
       "        vertical-align: top;\n",
       "    }\n",
       "</style>\n",
       "<table border=\"1\" class=\"dataframe\">\n",
       "  <thead>\n",
       "    <tr style=\"text-align: right;\">\n",
       "      <th></th>\n",
       "      <th>house_lm</th>\n",
       "      <th>house_wt</th>\n",
       "      <th>predictor</th>\n",
       "    </tr>\n",
       "  </thead>\n",
       "  <tbody>\n",
       "    <tr>\n",
       "      <th>0</th>\n",
       "      <td>235.151666</td>\n",
       "      <td>247.130647</td>\n",
       "      <td>SqFtTotLiving</td>\n",
       "    </tr>\n",
       "    <tr>\n",
       "      <th>1</th>\n",
       "      <td>-0.069517</td>\n",
       "      <td>-0.292431</td>\n",
       "      <td>SqFtLot</td>\n",
       "    </tr>\n",
       "    <tr>\n",
       "      <th>2</th>\n",
       "      <td>-14069.128634</td>\n",
       "      <td>-22061.286496</td>\n",
       "      <td>Bathrooms</td>\n",
       "    </tr>\n",
       "    <tr>\n",
       "      <th>3</th>\n",
       "      <td>-54658.863988</td>\n",
       "      <td>-57237.540337</td>\n",
       "      <td>Bedrooms</td>\n",
       "    </tr>\n",
       "    <tr>\n",
       "      <th>4</th>\n",
       "      <td>103454.132719</td>\n",
       "      <td>113439.797537</td>\n",
       "      <td>BldgGrade</td>\n",
       "    </tr>\n",
       "    <tr>\n",
       "      <th>5</th>\n",
       "      <td>-502691.533096</td>\n",
       "      <td>-571475.146905</td>\n",
       "      <td>intercept</td>\n",
       "    </tr>\n",
       "  </tbody>\n",
       "</table>\n",
       "</div>"
      ],
      "text/plain": [
       "        house_lm       house_wt      predictor\n",
       "0     235.151666     247.130647  SqFtTotLiving\n",
       "1      -0.069517      -0.292431        SqFtLot\n",
       "2  -14069.128634  -22061.286496      Bathrooms\n",
       "3  -54658.863988  -57237.540337       Bedrooms\n",
       "4  103454.132719  113439.797537      BldgGrade\n",
       "5 -502691.533096 -571475.146905      intercept"
      ]
     },
     "execution_count": 15,
     "metadata": {},
     "output_type": "execute_result"
    }
   ],
   "source": [
    "predictors = ['SqFtTotLiving', 'SqFtLot', 'Bathrooms', \n",
    "              'Bedrooms', 'BldgGrade']\n",
    "outcome = 'AdjSalePrice'\n",
    "\n",
    "house_wt = LinearRegression()\n",
    "house_wt.fit(house[predictors], house[outcome], sample_weight=house.Weight)\n",
    "pd.DataFrame({\n",
    "    'predictor': predictors,\n",
    "    'house_lm': house_lm.coef_,\n",
    "    'house_wt': house_wt.coef_,\n",
    "}).append({\n",
    "    'predictor': 'intercept', \n",
    "    'house_lm': house_lm.intercept_,\n",
    "    'house_wt': house_wt.intercept_,\n",
    "}, ignore_index=True)"
   ]
  },
  {
   "cell_type": "code",
   "execution_count": 16,
   "metadata": {},
   "outputs": [
    {
     "name": "stdout",
     "output_type": "stream",
     "text": [
      "       Year  abs_residual_lm  abs_residual_wt\n",
      "13337  2006     67601.770155     75394.434407\n",
      "24136  2006     60105.100568     60262.534729\n",
      "1682   2013    415923.623707    408052.971430\n",
      "1081   2009    174014.287807    198681.497145\n",
      "4120   2008    120744.005570    117749.410655\n",
      "\n",
      "\n",
      "Year   Abs_residual_lm    Abs_residual_wt\n",
      "2006 141794.32045840277 147099.00507013567"
     ]
    },
    {
     "name": "stderr",
     "output_type": "stream",
     "text": [
      "C:\\ProgramData\\Anaconda3\\lib\\site-packages\\numpy\\core\\fromnumeric.py:61: FutureWarning: reshape is deprecated and will raise in a subsequent release. Please use .values.reshape(...) instead\n",
      "  return bound(*args, **kwds)\n"
     ]
    },
    {
     "name": "stdout",
     "output_type": "stream",
     "text": [
      "\n",
      "2007 149396.78850176246 154001.32339135767\n",
      "2008 145972.1711946496 149628.58421683635\n",
      "2009 147336.83787407534 150852.96680312374\n",
      "2010 164479.4563120265 167387.2665834909\n",
      "2011 174345.10628984668 177197.40206624396\n",
      "2012 175549.82705213063 177784.7926013061\n",
      "2013 199856.97640828573 202297.2204303774\n",
      "2014 190443.14077074692 192211.5532949705\n",
      "2015 159951.0541751008 158585.34950897907\n"
     ]
    },
    {
     "data": {
      "image/png": "[encoded data removed]",
      "text/plain": [
       "<matplotlib.figure.Figure at 0x262de951748>"
      ]
     },
     "metadata": {},
     "output_type": "display_data"
    }
   ],
   "source": [
    "residuals = pd.DataFrame({\n",
    "    'abs_residual_lm': np.abs(house_lm.predict(house[predictors]) - house[outcome]),\n",
    "    'abs_residual_wt': np.abs(house_wt.predict(house[predictors]) - house[outcome]),\n",
    "    'Year': house['Year'],\n",
    "})\n",
    "print(residuals.head())\n",
    "axes = residuals.boxplot(['abs_residual_lm', 'abs_residual_wt'], by='Year', figsize=(10, 4))\n",
    "axes[0].set_ylim(0, 300000)\n",
    "\n",
    "print(\"\\n\\nYear   Abs_residual_lm    Abs_residual_wt\")\n",
    "for year, group in residuals.groupby('Year'):\n",
    "    print(year, np.mean(group['abs_residual_lm']), np.mean(group['abs_residual_wt']))"
   ]
  },
  {
   "cell_type": "markdown",
   "metadata": {},
   "source": [
    "Seems only help 2015 prediction reduce the residuale.If we have a recent holdout sample we can test the weight could help for furture prediction or not"
   ]
  },
  {
   "cell_type": "markdown",
   "metadata": {},
   "source": [
    "# 4 - Regularization"
   ]
  },
  {
   "cell_type": "code",
   "execution_count": 17,
   "metadata": {},
   "outputs": [
    {
     "name": "stdout",
     "output_type": "stream",
     "text": [
      "       SqFtTotLiving  SqFtLot  Bathrooms  Bedrooms  BldgGrade   PropertyType  \\\n",
      "13337           1490     4661       2.25         3          7  Single Family   \n",
      "24136           1880     7881       1.75         3          7  Single Family   \n",
      "1682            1880     9112       2.00         3          8  Single Family   \n",
      "1081             700     4700       1.00         2          5  Single Family   \n",
      "4120            1990     7401       2.00         4          7      Multiplex   \n",
      "\n",
      "       NbrLivingUnits  SqFtFinBasement  YrBuilt  YrRenovated  NewConstruction  \n",
      "13337               1                0     1985            0            False  \n",
      "24136               1                0     1958            0            False  \n",
      "1682                1                0     1951            0            False  \n",
      "1081                1                0     1953            0            False  \n",
      "4120                2                0     1978            0            False  \n",
      "\n",
      " PropertyType List \n",
      "Single Family    16574\n",
      "Townhouse         1370\n",
      "Multiplex          205\n",
      "Name: PropertyType, dtype: int64\n"
     ]
    }
   ],
   "source": [
    "predictors = ['SqFtTotLiving', 'SqFtLot', 'Bathrooms', 'Bedrooms',\n",
    "              'BldgGrade', 'PropertyType', 'NbrLivingUnits',\n",
    "              'SqFtFinBasement', 'YrBuilt', 'YrRenovated', \n",
    "              'NewConstruction']\n",
    "\n",
    "outcome = 'AdjSalePrice'\n",
    "\n",
    "print(house[predictors].head())\n",
    "\n",
    "print(\"\\n PropertyType List \\n{}\".format(house['PropertyType'].value_counts(dropna=False)))\n",
    "\n",
    "X_train = pd.get_dummies(house[predictors], drop_first=True)\n",
    "X_train['NewConstruction'] = [1 if nc else 0 for nc in X_train['NewConstruction']]\n",
    "y_train = house[outcome]\n",
    "\n",
    "X_test = pd.get_dummies(house_test[predictors], drop_first=True)\n",
    "X_test['NewConstruction'] = [1 if nc else 0 for nc in X_test['NewConstruction']]\n",
    "y_test = house_test[outcome]"
   ]
  },
  {
   "cell_type": "markdown",
   "metadata": {},
   "source": [
    "### Regular Multiple Regression"
   ]
  },
  {
   "cell_type": "code",
   "execution_count": 18,
   "metadata": {},
   "outputs": [
    {
     "data": {
      "text/plain": [
       "{'Bathrooms': 51028.276,\n",
       " 'Bedrooms': -59943.136,\n",
       " 'BldgGrade': 135622.76,\n",
       " 'Intercept': 6375181.854,\n",
       " 'NbrLivingUnits': 11219.108,\n",
       " 'NewConstruction': -1084.996,\n",
       " 'PropertyType_Single Family': 33199.127,\n",
       " 'SqFtFinBasement': 4.871,\n",
       " 'SqFtLot': 0.085,\n",
       " 'SqFtTotLiving': 204.165,\n",
       " 'YrBuilt': -3670.919,\n",
       " 'YrRenovated': -1.811}"
      ]
     },
     "execution_count": 18,
     "metadata": {},
     "output_type": "execute_result"
    }
   ],
   "source": [
    "house_lm = LinearRegression()\n",
    "house_lm.fit(X_train, y_train)\n",
    "\n",
    "mlr_coefs = dict(\n",
    "    zip(['Intercept'] + X_train.columns.tolist()[:-1], \n",
    "        np.round(np.concatenate((house_lm.intercept_, house_lm.coef_), \n",
    "                                axis=None), 3))\n",
    ")\n",
    "\n",
    "mlr_coefs"
   ]
  },
  {
   "cell_type": "code",
   "execution_count": 19,
   "metadata": {},
   "outputs": [
    {
     "name": "stdout",
     "output_type": "stream",
     "text": [
      "regular mlr MSE: 215046\n",
      "r2_test: 0.6315\n"
     ]
    }
   ],
   "source": [
    "fitted_test = house_lm.predict(X_test)\n",
    "MSE_test = np.sqrt(mean_squared_error(y_test, fitted_test))\n",
    "r2 = r2_score(y_test, fitted_test)\n",
    "print(f'regular mlr MSE: {MSE_test:.0f}')\n",
    "print(f'r2_test: {r2:.4f}')"
   ]
  },
  {
   "cell_type": "markdown",
   "metadata": {},
   "source": [
    "### L2 - Ridge regression (Parameter shrinkage)"
   ]
  },
  {
   "cell_type": "code",
   "execution_count": 40,
   "metadata": {},
   "outputs": [
    {
     "name": "stdout",
     "output_type": "stream",
     "text": [
      "Ridge Regression MAE: 133846.01\n",
      "Ridge Regression coefficients:\n"
     ]
    },
    {
     "data": {
      "text/plain": [
       "{'Bathrooms': 51886.714,\n",
       " 'Bedrooms': -58557.365,\n",
       " 'BldgGrade': 135538.042,\n",
       " 'Intercept': 6272581.411,\n",
       " 'NbrLivingUnits': 5992.061,\n",
       " 'NewConstruction': -1131.61,\n",
       " 'PropertyType_Single Family': 23226.507,\n",
       " 'SqFtFinBasement': 7.308,\n",
       " 'SqFtLot': 0.094,\n",
       " 'SqFtTotLiving': 200.41,\n",
       " 'YrBuilt': -3610.529,\n",
       " 'YrRenovated': -0.85}"
      ]
     },
     "execution_count": 40,
     "metadata": {},
     "output_type": "execute_result"
    }
   ],
   "source": [
    "ridge_cv = RidgeCV(normalize=True, alphas=np.logspace(-10, 1, 400))\n",
    "ridge_model = ridge_cv.fit(X_train, y_train)\n",
    "ridge_prediction = ridge_model.predict(X_test)\n",
    "ridge_mae = np.mean(np.abs(y_test - ridge_prediction))\n",
    "ridge_coefs = dict(\n",
    "    zip(['Intercept'] + X_train.columns.tolist()[:-1], \n",
    "        np.round(np.concatenate((ridge_model.intercept_, ridge_model.coef_), \n",
    "                                axis=None), 3))\n",
    ")\n",
    "\n",
    "print('Ridge Regression MAE: {}'.format(np.round(ridge_mae, 3)))\n",
    "print('Ridge Regression coefficients:')\n",
    "ridge_coefs"
   ]
  },
  {
   "cell_type": "markdown",
   "metadata": {},
   "source": [
    "### L1 - Lasso regression (Parameter sparsity)"
   ]
  },
  {
   "cell_type": "code",
   "execution_count": 21,
   "metadata": {},
   "outputs": [
    {
     "name": "stdout",
     "output_type": "stream",
     "text": [
      "LASSO MAE: 133489.541\n",
      "LASSO coefficients:\n"
     ]
    },
    {
     "data": {
      "text/plain": [
       "{'Bathrooms': 47191.806,\n",
       " 'Bedrooms': -56089.484,\n",
       " 'BldgGrade': 135394.271,\n",
       " 'Intercept': 6155147.23,\n",
       " 'NbrLivingUnits': -0.0,\n",
       " 'NewConstruction': -0.0,\n",
       " 'PropertyType_Single Family': -0.0,\n",
       " 'SqFtFinBasement': 4.991,\n",
       " 'SqFtLot': 0.043,\n",
       " 'SqFtTotLiving': 201.375,\n",
       " 'YrBuilt': -3534.963,\n",
       " 'YrRenovated': 0.0}"
      ]
     },
     "execution_count": 21,
     "metadata": {},
     "output_type": "execute_result"
    }
   ],
   "source": [
    "lasso_cv = LassoCV(normalize=True, alphas=np.logspace(-10, 1, 400))\n",
    "lasso_model = lasso_cv.fit(X_train, y_train)\n",
    "lasso_prediction = lasso_model.predict(X_test)\n",
    "lasso_mae = np.mean(np.abs(y_test - lasso_prediction))\n",
    "lasso_coefs = dict(\n",
    "    zip(['Intercept'] + X_train.columns.tolist()[:-1], \n",
    "        np.round(np.concatenate((lasso_model.intercept_, lasso_model.coef_), axis=None), 3))\n",
    ")\n",
    "\n",
    "print('LASSO MAE: {}'.format(np.round(lasso_mae, 3)))\n",
    "print('LASSO coefficients:')\n",
    "lasso_coefs"
   ]
  },
  {
   "cell_type": "markdown",
   "metadata": {},
   "source": [
    "# Home Work"
   ]
  },
  {
   "cell_type": "markdown",
   "metadata": {},
   "source": [
    "1. Compare the three model fits and draw conclusion \n",
    "from the comparision of the three model firt regarding there coefficent difference"
   ]
  },
  {
   "cell_type": "code",
   "execution_count": 48,
   "metadata": {},
   "outputs": [
    {
     "data": {
      "text/html": [
       "<div>\n",
       "<style>\n",
       "    .dataframe thead tr:only-child th {\n",
       "        text-align: right;\n",
       "    }\n",
       "\n",
       "    .dataframe thead th {\n",
       "        text-align: left;\n",
       "    }\n",
       "\n",
       "    .dataframe tbody tr th {\n",
       "        vertical-align: top;\n",
       "    }\n",
       "</style>\n",
       "<table border=\"1\" class=\"dataframe\">\n",
       "  <thead>\n",
       "    <tr style=\"text-align: right;\">\n",
       "      <th></th>\n",
       "      <th>MLR</th>\n",
       "      <th>Stepwise</th>\n",
       "      <th>Weighted</th>\n",
       "      <th>predictor</th>\n",
       "    </tr>\n",
       "  </thead>\n",
       "  <tbody>\n",
       "    <tr>\n",
       "      <th>0</th>\n",
       "      <td>235.151666</td>\n",
       "      <td>2.471306e+02</td>\n",
       "      <td>247.130647</td>\n",
       "      <td>SqFtTotLiving</td>\n",
       "    </tr>\n",
       "    <tr>\n",
       "      <th>1</th>\n",
       "      <td>-0.069517</td>\n",
       "      <td>-2.924306e-01</td>\n",
       "      <td>-0.292431</td>\n",
       "      <td>SqFtLot</td>\n",
       "    </tr>\n",
       "    <tr>\n",
       "      <th>2</th>\n",
       "      <td>-14069.128634</td>\n",
       "      <td>-2.206129e+04</td>\n",
       "      <td>-22061.286496</td>\n",
       "      <td>Bathrooms</td>\n",
       "    </tr>\n",
       "    <tr>\n",
       "      <th>3</th>\n",
       "      <td>-54658.863988</td>\n",
       "      <td>-5.723754e+04</td>\n",
       "      <td>-57237.540337</td>\n",
       "      <td>Bedrooms</td>\n",
       "    </tr>\n",
       "    <tr>\n",
       "      <th>4</th>\n",
       "      <td>103454.132719</td>\n",
       "      <td>1.134398e+05</td>\n",
       "      <td>113439.797537</td>\n",
       "      <td>BldgGrade</td>\n",
       "    </tr>\n",
       "    <tr>\n",
       "      <th>5</th>\n",
       "      <td>-502691.533096</td>\n",
       "      <td>6.441146e+06</td>\n",
       "      <td>-571475.146905</td>\n",
       "      <td>intercept</td>\n",
       "    </tr>\n",
       "  </tbody>\n",
       "</table>\n",
       "</div>"
      ],
      "text/plain": [
       "             MLR      Stepwise       Weighted      predictor\n",
       "0     235.151666  2.471306e+02     247.130647  SqFtTotLiving\n",
       "1      -0.069517 -2.924306e-01      -0.292431        SqFtLot\n",
       "2  -14069.128634 -2.206129e+04  -22061.286496      Bathrooms\n",
       "3  -54658.863988 -5.723754e+04  -57237.540337       Bedrooms\n",
       "4  103454.132719  1.134398e+05  113439.797537      BldgGrade\n",
       "5 -502691.533096  6.441146e+06 -571475.146905      intercept"
      ]
     },
     "execution_count": 48,
     "metadata": {},
     "output_type": "execute_result"
    }
   ],
   "source": [
    "\n",
    "pd.DataFrame({\n",
    "    'predictor': predictors,\n",
    "    'MLR': house_lm.coef_,\n",
    "    'Weighted': house_wt.coef_,\n",
    "    'Stepwise': house_wt.coef_,\n",
    "    \n",
    "}).append({\n",
    "    'predictor': 'intercept', \n",
    "    'MLR': house_lm.intercept_,\n",
    "    'Weighted': house_wt.intercept_,\n",
    "    'Stepwise': best_model.intercept_,\n",
    "    \n",
    "}, ignore_index=True)\n"
   ]
  },
  {
   "cell_type": "code",
   "execution_count": 50,
   "metadata": {},
   "outputs": [
    {
     "data": {
      "text/html": [
       "<div>\n",
       "<style>\n",
       "    .dataframe thead tr:only-child th {\n",
       "        text-align: right;\n",
       "    }\n",
       "\n",
       "    .dataframe thead th {\n",
       "        text-align: left;\n",
       "    }\n",
       "\n",
       "    .dataframe tbody tr th {\n",
       "        vertical-align: top;\n",
       "    }\n",
       "</style>\n",
       "<table border=\"1\" class=\"dataframe\">\n",
       "  <thead>\n",
       "    <tr style=\"text-align: right;\">\n",
       "      <th></th>\n",
       "      <th>Lasso</th>\n",
       "      <th>Ridge</th>\n",
       "    </tr>\n",
       "  </thead>\n",
       "  <tbody>\n",
       "    <tr>\n",
       "      <th>Bathrooms</th>\n",
       "      <td>47191.806</td>\n",
       "      <td>51886.714</td>\n",
       "    </tr>\n",
       "    <tr>\n",
       "      <th>Bedrooms</th>\n",
       "      <td>-56089.484</td>\n",
       "      <td>-58557.365</td>\n",
       "    </tr>\n",
       "    <tr>\n",
       "      <th>BldgGrade</th>\n",
       "      <td>135394.271</td>\n",
       "      <td>135538.042</td>\n",
       "    </tr>\n",
       "    <tr>\n",
       "      <th>Intercept</th>\n",
       "      <td>6155147.230</td>\n",
       "      <td>6272581.411</td>\n",
       "    </tr>\n",
       "    <tr>\n",
       "      <th>NbrLivingUnits</th>\n",
       "      <td>-0.000</td>\n",
       "      <td>5992.061</td>\n",
       "    </tr>\n",
       "    <tr>\n",
       "      <th>NewConstruction</th>\n",
       "      <td>-0.000</td>\n",
       "      <td>-1131.610</td>\n",
       "    </tr>\n",
       "    <tr>\n",
       "      <th>PropertyType_Single Family</th>\n",
       "      <td>-0.000</td>\n",
       "      <td>23226.507</td>\n",
       "    </tr>\n",
       "    <tr>\n",
       "      <th>SqFtFinBasement</th>\n",
       "      <td>4.991</td>\n",
       "      <td>7.308</td>\n",
       "    </tr>\n",
       "    <tr>\n",
       "      <th>SqFtLot</th>\n",
       "      <td>0.043</td>\n",
       "      <td>0.094</td>\n",
       "    </tr>\n",
       "    <tr>\n",
       "      <th>SqFtTotLiving</th>\n",
       "      <td>201.375</td>\n",
       "      <td>200.410</td>\n",
       "    </tr>\n",
       "    <tr>\n",
       "      <th>YrBuilt</th>\n",
       "      <td>-3534.963</td>\n",
       "      <td>-3610.529</td>\n",
       "    </tr>\n",
       "    <tr>\n",
       "      <th>YrRenovated</th>\n",
       "      <td>0.000</td>\n",
       "      <td>-0.850</td>\n",
       "    </tr>\n",
       "  </tbody>\n",
       "</table>\n",
       "</div>"
      ],
      "text/plain": [
       "                                  Lasso        Ridge\n",
       "Bathrooms                     47191.806    51886.714\n",
       "Bedrooms                     -56089.484   -58557.365\n",
       "BldgGrade                    135394.271   135538.042\n",
       "Intercept                   6155147.230  6272581.411\n",
       "NbrLivingUnits                   -0.000     5992.061\n",
       "NewConstruction                  -0.000    -1131.610\n",
       "PropertyType_Single Family       -0.000    23226.507\n",
       "SqFtFinBasement                   4.991        7.308\n",
       "SqFtLot                           0.043        0.094\n",
       "SqFtTotLiving                   201.375      200.410\n",
       "YrBuilt                       -3534.963    -3610.529\n",
       "YrRenovated                       0.000       -0.850"
      ]
     },
     "execution_count": 50,
     "metadata": {},
     "output_type": "execute_result"
    }
   ],
   "source": [
    "\n",
    "pd.DataFrame({\n",
    "    'Ridge': ridge_coefs,\n",
    "    'Lasso': lasso_coefs\n",
    "})\n"
   ]
  },
  {
   "cell_type": "markdown",
   "metadata": {},
   "source": [
    "2. Show the three model performance on both tran and test"
   ]
  },
  {
   "cell_type": "code",
   "execution_count": 37,
   "metadata": {},
   "outputs": [
    {
     "data": {
      "image/png": "[encoded data removed]",
      "text/plain": [
       "<matplotlib.figure.Figure at 0x262e468e7b8>"
      ]
     },
     "metadata": {},
     "output_type": "display_data"
    },
    {
     "data": {
      "image/png": "[encoded data removed]",
      "text/plain": [
       "<matplotlib.figure.Figure at 0x262e468e550>"
      ]
     },
     "metadata": {},
     "output_type": "display_data"
    }
   ],
   "source": [
    "RMSE_tra=[]\n",
    "RMSE_tes=[]\n",
    "r2_tra=[]\n",
    "r2_tes=[]\n",
    "#1 MLR\n",
    "predictors = ['SqFtTotLiving', 'SqFtLot', 'Bathrooms', \n",
    "              'Bedrooms', 'BldgGrade']\n",
    "outcome = 'AdjSalePrice'\n",
    "fitted = house_lm.predict(house[predictors])\n",
    "RMSE_tra.append(np.sqrt(mean_squared_error(house[outcome], fitted)))\n",
    "r2_tra.append(r2_score(house[outcome], fitted))\n",
    "\n",
    "fitted_test = house_lm.predict(house_test[predictors])\n",
    "RMSE_tes.append(np.sqrt(mean_squared_error(house_test[outcome], fitted_test)))\n",
    "r2_tes.append(r2_score(house_test[outcome], fitted_test))\n",
    "\n",
    "#2 Stepwise Regression\n",
    "predictors = ['SqFtTotLiving', 'SqFtLot', 'Bathrooms', 'Bedrooms',\n",
    "              'BldgGrade', 'PropertyType', 'NbrLivingUnits',\n",
    "              'SqFtFinBasement', 'YrBuilt', 'YrRenovated', \n",
    "              'NewConstruction']\n",
    "X = pd.get_dummies(house[predictors], drop_first=True)\n",
    "X['NewConstruction'] = [1 if nc else 0 for nc in X['NewConstruction']]\n",
    "fitted = best_model.predict(X[best_variables])\n",
    "RMSE_tra.append(np.sqrt(mean_squared_error(house[outcome], fitted)))\n",
    "r2_tra.append(r2_score(house[outcome], fitted)) \n",
    "\n",
    "X = pd.get_dummies(house_test[predictors], drop_first=True)\n",
    "X['NewConstruction'] = [1 if nc else 0 for nc in X['NewConstruction']]\n",
    "fitted_test = best_model.predict(X[best_variables])\n",
    "RMSE_tes.append(np.sqrt(mean_squared_error(house_test[outcome], fitted_test)))\n",
    "r2_tes.append(r2_score(house_test[outcome], fitted_test))\n",
    "\n",
    "#3 Weighted regression\n",
    "predictors = ['SqFtTotLiving', 'SqFtLot', 'Bathrooms', \n",
    "              'Bedrooms', 'BldgGrade']\n",
    "outcome = 'AdjSalePrice'\n",
    "\n",
    "fitted = house_wt.predict(house[predictors])\n",
    "RMSE_tra.append(np.sqrt(mean_squared_error(house[outcome], fitted)))\n",
    "r2_tra.append(r2_score(house[outcome], fitted))\n",
    "\n",
    "fitted_test = house_wt.predict(house_test[predictors])\n",
    "RMSE_tes.append(np.sqrt(mean_squared_error(house_test[outcome], fitted_test)))\n",
    "r2_tes.append(r2_score(house_test[outcome], fitted_test))\n",
    "\n",
    "#4 Ridge\n",
    "fitted = ridge_model.predict(X_train)\n",
    "RMSE_tra.append(np.sqrt(mean_squared_error(y_train, fitted)))\n",
    "r2_tra.append(r2_score(y_train, fitted))\n",
    "\n",
    "fitted_test = ridge_model.predict(X_test)\n",
    "RMSE_tes.append(np.sqrt(mean_squared_error(y_test, fitted_test)))\n",
    "r2_tes.append(r2_score(y_test, fitted_test))\n",
    "\n",
    "#5 Lasso\n",
    "fitted = lasso_model.predict(X_train)\n",
    "RMSE_tra.append(np.sqrt(mean_squared_error(y_train, fitted)))\n",
    "r2_tra.append(r2_score(y_train, fitted))\n",
    "\n",
    "fitted_test = lasso_model.predict(X_test)\n",
    "RMSE_tes.append(np.sqrt(mean_squared_error(y_test, fitted_test)))\n",
    "r2_tes.append(r2_score(y_test, fitted_test))\n",
    "\n",
    "#plot r2\n",
    "index = ['MLR', 'Stepwise', 'Weighted','Ridge','Lasso']\n",
    "df = pd.DataFrame({'Training r2': r2_tra,\n",
    "                   'Testing r2': r2_tes}, index=index)\n",
    "ax = df.plot.bar(rot=0)\n",
    "\n",
    "#plot RMSE\n",
    "df = pd.DataFrame({'Training RMSE': RMSE_tra,\n",
    "                   'Testing RMSE': RMSE_tes}, index=index)\n",
    "ax = df.plot.bar(rot=0)\n"
   ]
  }
 ],
 "metadata": {
  "kernelspec": {
   "display_name": "Python 3",
   "language": "python",
   "name": "python3"
  },
  "language_info": {
   "codemirror_mode": {
    "name": "ipython",
    "version": 3
   },
   "file_extension": ".py",
   "mimetype": "text/x-python",
   "name": "python",
   "nbconvert_exporter": "python",
   "pygments_lexer": "ipython3",
   "version": "3.6.3"
  }
 },
 "nbformat": 4,
 "nbformat_minor": 2
}
